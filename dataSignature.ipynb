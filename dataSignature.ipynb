{
 "cells": [
  {
   "cell_type": "code",
   "execution_count": 196,
   "metadata": {},
   "outputs": [],
   "source": [
    "import matplotlib.pyplot as plt\n",
    "import os\n",
    "import numpy as np"
   ]
  },
  {
   "cell_type": "code",
   "execution_count": 197,
   "metadata": {},
   "outputs": [],
   "source": [
    "from os import listdir\n",
    "from os.path import isfile\n",
    "from skimage.transform import resize\n",
    "from sklearn.metrics import classification_report, confusion_matrix"
   ]
  },
  {
   "cell_type": "code",
   "execution_count": 198,
   "metadata": {},
   "outputs": [],
   "source": [
    "path = r'C:/Users/melis/OneDrive/Masaüstü/data_signature/'"
   ]
  },
  {
   "cell_type": "code",
   "execution_count": 199,
   "metadata": {},
   "outputs": [
    {
     "data": {
      "text/plain": [
       "['150401043',\n",
       " '150401051',\n",
       " '160401014',\n",
       " '160401025',\n",
       " '160401045',\n",
       " '170401012',\n",
       " '170401016',\n",
       " '170401018',\n",
       " '170401025',\n",
       " '170401040',\n",
       " '170401043']"
      ]
     },
     "execution_count": 199,
     "metadata": {},
     "output_type": "execute_result"
    }
   ],
   "source": [
    "folders = listdir(path)\n",
    "folders"
   ]
  },
  {
   "cell_type": "code",
   "execution_count": 200,
   "metadata": {},
   "outputs": [
    {
     "name": "stdout",
     "output_type": "stream",
     "text": [
      "150401043\n",
      "150401051\n",
      "160401014\n",
      "160401025\n",
      "160401045\n",
      "170401012\n",
      "170401016\n",
      "170401018\n",
      "170401025\n",
      "170401040\n",
      "170401043\n"
     ]
    }
   ],
   "source": [
    "list_of_img = []\n",
    "imglabels = {'150401043':'0', '150401051':'1', '160401014':'2', '160401025':'3', '160401045':'4', \n",
    "          '170401012':'5', '170401016':'6', '170401018':'7', '170401025':'8', '170401040':'9', \n",
    "          '170401043':'10'}\n",
    "y = []\n",
    "X_test = []\n",
    "y_test = []\n",
    "\n",
    "for folder in folders:\n",
    "    \n",
    "    print(folder)\n",
    "    for i in range(1,32):\n",
    "        imgpath = path + folder + '/' + folder + '_'\n",
    "        if i<10:\n",
    "            imgpath = imgpath + '0' + str(i) + '_cropped_.png'\n",
    "        elif i>10 and i!=31:\n",
    "            imgpath = imgpath + str(i) + '_cropped_.png'\n",
    "        else:\n",
    "            imgpath = imgpath + 'test_cropped_.png'\n",
    "\n",
    "        img = plt.imread(imgpath)\n",
    "        img = img[:,:,0]\n",
    "        img = resize(img, (200,200))\n",
    "        img = np.ndarray.flatten(img)\n",
    "        \n",
    "        if i==31:\n",
    "            X_test.append(img)\n",
    "            y_test.append(imglabels[folder])\n",
    "        \n",
    "        else:\n",
    "            list_of_img.append(img)\n",
    "            y.append(imglabels[folder])"
   ]
  },
  {
   "cell_type": "code",
   "execution_count": 201,
   "metadata": {},
   "outputs": [
    {
     "data": {
      "text/plain": [
       "330"
      ]
     },
     "execution_count": 201,
     "metadata": {},
     "output_type": "execute_result"
    }
   ],
   "source": [
    "len(list_of_img)"
   ]
  },
  {
   "cell_type": "code",
   "execution_count": 202,
   "metadata": {},
   "outputs": [],
   "source": [
    "X = np.array(list_of_img)\n",
    "y = np.array(y, dtype=object)"
   ]
  },
  {
   "cell_type": "code",
   "execution_count": 203,
   "metadata": {},
   "outputs": [],
   "source": [
    "X_test = np.array(X_test)\n",
    "y_test = np.array(y_test, dtype=object)"
   ]
  },
  {
   "cell_type": "code",
   "execution_count": 204,
   "metadata": {},
   "outputs": [
    {
     "data": {
      "image/png": "[encoded data removed]",
      "text/plain": [
       "<Figure size 432x288 with 1 Axes>"
      ]
     },
     "metadata": {
      "needs_background": "light"
     },
     "output_type": "display_data"
    },
    {
     "name": "stdout",
     "output_type": "stream",
     "text": [
      "10\n"
     ]
    }
   ],
   "source": [
    "i = 329\n",
    "plt.imshow(X[i].reshape(200,200), cmap ='gray')\n",
    "plt.axis(\"off\")\n",
    "plt.show()\n",
    "print(y[i])"
   ]
  },
  {
   "cell_type": "code",
   "execution_count": 205,
   "metadata": {},
   "outputs": [
    {
     "data": {
      "text/plain": [
       "((330, 40000), (330,), ((11, 40000), (11,)))"
      ]
     },
     "execution_count": 205,
     "metadata": {},
     "output_type": "execute_result"
    }
   ],
   "source": [
    "(X.shape), (y.shape), (X_test.shape, y_test.shape)"
   ]
  },
  {
   "cell_type": "code",
   "execution_count": 206,
   "metadata": {},
   "outputs": [
    {
     "data": {
      "text/plain": [
       "array(['0', '0', '0', '0', '0', '0', '0', '0', '0', '0', '0', '0', '0',\n",
       "       '0', '0', '0', '0', '0', '0', '0', '0', '0', '0', '0', '0', '0',\n",
       "       '0', '0', '0', '0', '1', '1', '1', '1', '1', '1', '1', '1', '1',\n",
       "       '1', '1', '1', '1', '1', '1', '1', '1', '1', '1', '1', '1', '1',\n",
       "       '1', '1', '1', '1', '1', '1', '1', '1', '2', '2', '2', '2', '2',\n",
       "       '2', '2', '2', '2', '2', '2', '2', '2', '2', '2', '2', '2', '2',\n",
       "       '2', '2', '2', '2', '2', '2', '2', '2', '2', '2', '2', '2', '3',\n",
       "       '3', '3', '3', '3', '3', '3', '3', '3', '3', '3', '3', '3', '3',\n",
       "       '3', '3', '3', '3', '3', '3', '3', '3', '3', '3', '3', '3', '3',\n",
       "       '3', '3', '3', '4', '4', '4', '4', '4', '4', '4', '4', '4', '4',\n",
       "       '4', '4', '4', '4', '4', '4', '4', '4', '4', '4', '4', '4', '4',\n",
       "       '4', '4', '4', '4', '4', '4', '4', '5', '5', '5', '5', '5', '5',\n",
       "       '5', '5', '5', '5', '5', '5', '5', '5', '5', '5', '5', '5', '5',\n",
       "       '5', '5', '5', '5', '5', '5', '5', '5', '5', '5', '5', '6', '6',\n",
       "       '6', '6', '6', '6', '6', '6', '6', '6', '6', '6', '6', '6', '6',\n",
       "       '6', '6', '6', '6', '6', '6', '6', '6', '6', '6', '6', '6', '6',\n",
       "       '6', '6', '7', '7', '7', '7', '7', '7', '7', '7', '7', '7', '7',\n",
       "       '7', '7', '7', '7', '7', '7', '7', '7', '7', '7', '7', '7', '7',\n",
       "       '7', '7', '7', '7', '7', '7', '8', '8', '8', '8', '8', '8', '8',\n",
       "       '8', '8', '8', '8', '8', '8', '8', '8', '8', '8', '8', '8', '8',\n",
       "       '8', '8', '8', '8', '8', '8', '8', '8', '8', '8', '9', '9', '9',\n",
       "       '9', '9', '9', '9', '9', '9', '9', '9', '9', '9', '9', '9', '9',\n",
       "       '9', '9', '9', '9', '9', '9', '9', '9', '9', '9', '9', '9', '9',\n",
       "       '9', '10', '10', '10', '10', '10', '10', '10', '10', '10', '10',\n",
       "       '10', '10', '10', '10', '10', '10', '10', '10', '10', '10', '10',\n",
       "       '10', '10', '10', '10', '10', '10', '10', '10', '10'], dtype=object)"
      ]
     },
     "execution_count": 206,
     "metadata": {},
     "output_type": "execute_result"
    }
   ],
   "source": [
    "y"
   ]
  },
  {
   "cell_type": "code",
   "execution_count": 207,
   "metadata": {},
   "outputs": [],
   "source": [
    "X = X / 255"
   ]
  },
  {
   "cell_type": "code",
   "execution_count": 208,
   "metadata": {},
   "outputs": [],
   "source": [
    "X_test = X_test / 255"
   ]
  },
  {
   "cell_type": "code",
   "execution_count": 209,
   "metadata": {},
   "outputs": [],
   "source": [
    "digits = 11\n",
    "examples = y.shape[0]"
   ]
  },
  {
   "cell_type": "code",
   "execution_count": 210,
   "metadata": {},
   "outputs": [
    {
     "name": "stdout",
     "output_type": "stream",
     "text": [
      "330\n"
     ]
    }
   ],
   "source": [
    "print(examples)"
   ]
  },
  {
   "cell_type": "code",
   "execution_count": 211,
   "metadata": {},
   "outputs": [],
   "source": [
    "y = y.reshape(1, examples)"
   ]
  },
  {
   "cell_type": "code",
   "execution_count": 212,
   "metadata": {},
   "outputs": [],
   "source": [
    "Y_new = np.eye(digits)[y.astype('int32')]\n",
    "Y_new = Y_new.T.reshape(digits, examples)"
   ]
  },
  {
   "cell_type": "code",
   "execution_count": 213,
   "metadata": {},
   "outputs": [],
   "source": [
    "digits = 11\n",
    "examples = y_test.shape[0]\n",
    "y_test = y_test.reshape(1, examples)\n",
    "Yt_new = np.eye(digits)[y_test.astype('int32')]\n",
    "Yt_new = Yt_new.T.reshape(digits, examples)"
   ]
  },
  {
   "cell_type": "code",
   "execution_count": 214,
   "metadata": {},
   "outputs": [
    {
     "data": {
      "text/plain": [
       "(((1, 330), (11, 330)), ((1, 11), (11, 11)))"
      ]
     },
     "execution_count": 214,
     "metadata": {},
     "output_type": "execute_result"
    }
   ],
   "source": [
    "(y.shape, Y_new.shape), (y_test.shape, Yt_new.shape)"
   ]
  },
  {
   "cell_type": "code",
   "execution_count": 215,
   "metadata": {},
   "outputs": [],
   "source": [
    "m = 330\n",
    "m_test = X.shape[0] - m\n",
    "\n",
    "X_train = X[:m].T\n",
    "Y_train = Y_new[:,:m]\n",
    "X_test = X_test.T\n",
    "Y_test = Yt_new\n",
    "\n",
    "shuffle_index = np.random.permutation(m)\n",
    "X_train, Y_train = X_train[:, shuffle_index], Y_train[:, shuffle_index]"
   ]
  },
  {
   "cell_type": "code",
   "execution_count": 216,
   "metadata": {},
   "outputs": [
    {
     "data": {
      "image/png": "[encoded data removed]",
      "text/plain": [
       "<Figure size 432x288 with 1 Axes>"
      ]
     },
     "metadata": {
      "needs_background": "light"
     },
     "output_type": "display_data"
    },
    {
     "data": {
      "text/plain": [
       "array([0., 1., 0., 0., 0., 0., 0., 0., 0., 0., 0.])"
      ]
     },
     "execution_count": 216,
     "metadata": {},
     "output_type": "execute_result"
    }
   ],
   "source": [
    "i = 12\n",
    "plt.imshow(X_train[:,i].reshape(200,200), cmap = 'gray')\n",
    "plt.axis(\"off\")\n",
    "plt.show()\n",
    "Y_train[:,i]"
   ]
  },
  {
   "cell_type": "code",
   "execution_count": 217,
   "metadata": {},
   "outputs": [],
   "source": [
    "def sigmoid(z):\n",
    "    s = 1 / (1 + np.exp(-z))\n",
    "    return s"
   ]
  },
  {
   "cell_type": "code",
   "execution_count": 218,
   "metadata": {},
   "outputs": [],
   "source": [
    "def compute_multiclass_loss(Y, Y_hat):\n",
    "\n",
    "    L_sum = np.sum(np.multiply(Y, np.log(Y_hat)))\n",
    "    m = Y.shape[1]\n",
    "    L = -(1/m) * L_sum\n",
    "\n",
    "    return L"
   ]
  },
  {
   "cell_type": "code",
   "execution_count": 219,
   "metadata": {},
   "outputs": [
    {
     "name": "stdout",
     "output_type": "stream",
     "text": [
      "Epoch 0 cost:  6.277855245086629\n",
      "Epoch 100 cost:  2.147898898084187\n",
      "Epoch 200 cost:  1.8356751105351894\n",
      "Epoch 300 cost:  1.6067783184545719\n",
      "Epoch 400 cost:  1.396049530327486\n",
      "Epoch 500 cost:  1.2122760354692421\n",
      "Epoch 600 cost:  1.0315426367097402\n",
      "Epoch 700 cost:  0.8828899769285836\n",
      "Epoch 800 cost:  0.7608017630269988\n",
      "Epoch 900 cost:  0.676582004147091\n",
      "Epoch 1000 cost:  0.6017800570645606\n",
      "Epoch 1100 cost:  0.5425393798752746\n",
      "Epoch 1200 cost:  0.4923067606341244\n",
      "Epoch 1300 cost:  0.4491706468868509\n",
      "Epoch 1400 cost:  0.4116611789691703\n",
      "Epoch 1500 cost:  0.3785075169035964\n",
      "Epoch 1600 cost:  0.3483266289847517\n",
      "Epoch 1700 cost:  0.330852268285569\n",
      "Epoch 1800 cost:  0.31345424011620204\n",
      "Epoch 1900 cost:  0.29143335717339114\n",
      "Final cost: 0.2676334471012131\n"
     ]
    }
   ],
   "source": [
    "n_x = X_train.shape[0]\n",
    "n_h = 64\n",
    "learning_rate = 1\n",
    "\n",
    "W1 = np.random.randn(n_h, n_x)\n",
    "b1 = np.zeros((n_h, 1))\n",
    "W2 = np.random.randn(digits, n_h)\n",
    "b2 = np.zeros((digits, 1))\n",
    "\n",
    "X = X_train\n",
    "Y = Y_train\n",
    "\n",
    "for i in range(2000):\n",
    "\n",
    "    Z1 = np.matmul(W1,X) + b1\n",
    "    A1 = sigmoid(Z1)\n",
    "    Z2 = np.matmul(W2,A1) + b2\n",
    "    A2 = np.exp(Z2) / np.sum(np.exp(Z2), axis=0)\n",
    "\n",
    "    cost = compute_multiclass_loss(Y, A2)\n",
    "\n",
    "    dZ2 = A2-Y\n",
    "    dW2 = (1./m) * np.matmul(dZ2, A1.T)\n",
    "    db2 = (1./m) * np.sum(dZ2, axis=1, keepdims=True)\n",
    "\n",
    "    dA1 = np.matmul(W2.T, dZ2)\n",
    "    dZ1 = dA1 * sigmoid(Z1) * (1 - sigmoid(Z1))\n",
    "    dW1 = (1./m) * np.matmul(dZ1, X.T)\n",
    "    db1 = (1./m) * np.sum(dZ1, axis=1, keepdims=True)\n",
    "\n",
    "    W2 = W2 - learning_rate * dW2\n",
    "    b2 = b2 - learning_rate * db2\n",
    "    W1 = W1 - learning_rate * dW1\n",
    "    b1 = b1 - learning_rate * db1\n",
    "\n",
    "    if (i % 100 == 0):\n",
    "        print(\"Epoch\", i, \"cost: \", cost)\n",
    "\n",
    "print(\"Final cost:\", cost)"
   ]
  },
  {
   "cell_type": "code",
   "execution_count": 221,
   "metadata": {},
   "outputs": [
    {
     "name": "stdout",
     "output_type": "stream",
     "text": [
      "[[1 0 0 0 0 0 0 0 0 0 0]\n",
      " [0 1 0 0 0 0 0 0 0 0 0]\n",
      " [0 0 1 0 0 0 0 0 0 0 0]\n",
      " [0 0 0 1 0 0 0 0 0 0 0]\n",
      " [0 0 0 0 1 0 0 0 0 0 0]\n",
      " [0 0 0 0 0 1 0 0 0 0 0]\n",
      " [0 0 0 0 0 0 1 0 0 0 0]\n",
      " [0 0 0 0 0 0 0 0 0 0 0]\n",
      " [0 0 0 0 0 0 0 0 1 0 0]\n",
      " [0 0 0 0 0 0 0 1 0 1 0]\n",
      " [0 0 0 0 0 0 0 0 0 0 1]]\n",
      "              precision    recall  f1-score   support\n",
      "\n",
      "           0       1.00      1.00      1.00         1\n",
      "           1       1.00      1.00      1.00         1\n",
      "           2       1.00      1.00      1.00         1\n",
      "           3       1.00      1.00      1.00         1\n",
      "           4       1.00      1.00      1.00         1\n",
      "           5       1.00      1.00      1.00         1\n",
      "           6       1.00      1.00      1.00         1\n",
      "           7       0.00      0.00      0.00         0\n",
      "           8       1.00      1.00      1.00         1\n",
      "           9       1.00      0.50      0.67         2\n",
      "          10       1.00      1.00      1.00         1\n",
      "\n",
      "    accuracy                           0.91        11\n",
      "   macro avg       0.91      0.86      0.88        11\n",
      "weighted avg       1.00      0.91      0.94        11\n",
      "\n"
     ]
    }
   ],
   "source": [
    "Z1 = np.matmul(W1, X_test) + b1\n",
    "A1 = sigmoid(Z1)\n",
    "Z2 = np.matmul(W2, A1) + b2\n",
    "A2 = np.exp(Z2) / np.sum(np.exp(Z2), axis=0)\n",
    "\n",
    "predictions = np.argmax(A2, axis=0)\n",
    "labels = np.argmax(Y_test, axis=0)\n",
    "\n",
    "print(confusion_matrix(predictions, labels))\n",
    "print(classification_report(predictions, labels))"
   ]
  },
  {
   "cell_type": "code",
   "execution_count": 225,
   "metadata": {},
   "outputs": [
    {
     "data": {
      "image/png": "[encoded data removed]",
      "text/plain": [
       "<Figure size 432x288 with 4 Axes>"
      ]
     },
     "metadata": {
      "needs_background": "light"
     },
     "output_type": "display_data"
    }
   ],
   "source": [
    "plt.subplot(2,2,1)\n",
    "plt.imshow(X[:,91].reshape(200,200), cmap ='gray')\n",
    "plt.subplot(2,2,2)\n",
    "plt.imshow(X[:,160].reshape(200,200), cmap ='gray')\n",
    "plt.subplot(2,2,3)\n",
    "plt.imshow(X[:,310].reshape(200,200), cmap ='gray')\n",
    "plt.subplot(2,2,4)\n",
    "plt.imshow(X[:,312].reshape(200,200), cmap ='gray')\n",
    "plt.show()"
   ]
  },
  {
   "cell_type": "code",
   "execution_count": null,
   "metadata": {},
   "outputs": [],
   "source": [
    "## Data boyutunu 200x200 olarak aldım ve accuracy  0.91 gibi oldukça yüksek bir oran çıktı."
   ]
  }
 ],
 "metadata": {
  "kernelspec": {
   "display_name": "Python 3",
   "language": "python",
   "name": "python3"
  },
  "language_info": {
   "codemirror_mode": {
    "name": "ipython",
    "version": 3
   },
   "file_extension": ".py",
   "mimetype": "text/x-python",
   "name": "python",
   "nbconvert_exporter": "python",
   "pygments_lexer": "ipython3",
   "version": "3.8.5"
  }
 },
 "nbformat": 4,
 "nbformat_minor": 4
}
